{
  "cells": [
    {
      "cell_type": "markdown",
      "metadata": {
        "id": "_FtFxo-f0F2E"
      },
      "source": [
        "# FLUENT: A Framework for Efficient Mixed-Protocol Semi-Private Function Evaluation"
      ]
    },
    {
      "cell_type": "markdown",
      "metadata": {
        "id": "6z6okz_G1yRR"
      },
      "source": [
        "## Setup\n",
        "\n",
        "The following cell will set up an environment for experimenting with our FLUENT toolchain. On Colab, the setup takes about 5 minutes.\n",
        "\n",
        "The code will download binaries for XLS, Yosys, and the Zig compiler toolchain as well as source code from our work. FLUENT is compiled by Zig from source on-the-fly. While Yosys and Zig are fetched from their upstream binary distributions, we modified the XLS codebase and thus provide our own binaries."
      ]
    },
    {
      "cell_type": "code",
      "execution_count": 1,
      "metadata": {
        "cellView": "form",
        "colab": {
          "base_uri": "https://localhost:8080/"
        },
        "id": "cgFcHneACH0h",
        "outputId": "d090e44e-718c-4db3-caf2-741f91da81e3"
      },
      "outputs": [
        {
          "output_type": "stream",
          "name": "stdout",
          "text": [
            "  % Total    % Received % Xferd  Average Speed   Time    Time     Time  Current\n",
            "                                 Dload  Upload   Total   Spent    Left  Speed\n",
            "  0     0    0     0    0     0      0      0 --:--:-- --:--:-- --:--:--     0\n",
            "100 30.8M    0 30.8M    0     0  5030k      0 --:--:--  0:00:06 --:--:-- 6176k\n",
            "  % Total    % Received % Xferd  Average Speed   Time    Time     Time  Current\n",
            "                                 Dload  Upload   Total   Spent    Left  Speed\n",
            "  0     0    0     0    0     0      0      0 --:--:-- --:--:-- --:--:--     0\n",
            "100  227M  100  227M    0     0  4052k      0  0:00:57  0:00:57 --:--:-- 4585k\n",
            "env: XLSCC=/content/bazel-bin/xls/contrib/xlscc/xlscc\n",
            "env: XLS_OPT=/content/bazel-bin/xls/tools/opt_main\n",
            "env: XLS_CODEGEN=/content/bazel-bin/xls/tools/codegen_main\n",
            "  % Total    % Received % Xferd  Average Speed   Time    Time     Time  Current\n",
            "                                 Dload  Upload   Total   Spent    Left  Speed\n",
            "100  128M  100  128M    0     0   185M      0 --:--:-- --:--:-- --:--:--  185M\n",
            "PREFIX=/content/conda-env\n",
            "Unpacking payload ...\n",
            "                                                                              \n",
            "Installing base environment...\n",
            "\n",
            "\n",
            "Downloading and Extracting Packages:\n",
            "\n",
            "\n",
            "Downloading and Extracting Packages:\n",
            "\n",
            "Preparing transaction: - \b\b\\ \b\b| \b\b/ \b\b- \b\bdone\n",
            "Executing transaction: | \b\b/ \b\b- \b\b\\ \b\b| \b\b/ \b\b- \b\b\\ \b\b| \b\b/ \b\b- \b\b\\ \b\b| \b\b/ \b\b- \b\b\\ \b\b| \b\b/ \b\b- \b\b\\ \b\b| \b\b/ \b\b- \b\b\\ \b\b| \b\b/ \b\b- \b\b\\ \b\b| \b\b/ \b\b- \b\b\\ \b\b| \b\bdone\n",
            "installation finished.\n",
            "WARNING:\n",
            "    You currently have a PYTHONPATH environment variable set. This may cause\n",
            "    unexpected behavior when running the Python interpreter in Miniconda3.\n",
            "    For best results, please verify that your PYTHONPATH only points to\n",
            "    directories of packages that are compatible with the Python interpreter\n",
            "    in Miniconda3: /content/conda-env\n",
            "env: CONDA_PREFIX=/content/conda-env\n",
            "Channels:\n",
            " - litex-hub\n",
            " - defaults\n",
            "Platform: linux-64\n",
            "Collecting package metadata (repodata.json): ...working... done\n",
            "Solving environment: ...working... done\n",
            "\n",
            "## Package Plan ##\n",
            "\n",
            "  environment location: /content/conda-env\n",
            "\n",
            "  added / updated specs:\n",
            "    - yosys=0.38_93_g84116c9a3\n",
            "\n",
            "\n",
            "The following packages will be downloaded:\n",
            "\n",
            "    package                    |            build\n",
            "    ---------------------------|-----------------\n",
            "    archspec-0.2.3             |     pyhd3eb1b0_0          47 KB\n",
            "    ca-certificates-2024.11.26 |       h06a4308_0         131 KB\n",
            "    certifi-2024.8.30          |  py310h06a4308_0         162 KB\n",
            "    conda-24.11.1              |  py310h06a4308_0         942 KB\n",
            "    frozendict-2.4.2           |  py310h5eee18b_0          55 KB\n",
            "    openssl-3.0.15             |       h5eee18b_0         5.2 MB\n",
            "    yosys-0.38_93_g84116c9a3   |20240223_100318_py310        11.4 MB  litex-hub\n",
            "    ------------------------------------------------------------\n",
            "                                           Total:        17.9 MB\n",
            "\n",
            "The following NEW packages will be INSTALLED:\n",
            "\n",
            "  frozendict         pkgs/main/linux-64::frozendict-2.4.2-py310h5eee18b_0 \n",
            "  yosys              litex-hub/linux-64::yosys-0.38_93_g84116c9a3-20240223_100318_py310 \n",
            "\n",
            "The following packages will be UPDATED:\n",
            "\n",
            "  archspec                               0.2.1-pyhd3eb1b0_0 --> 0.2.3-pyhd3eb1b0_0 \n",
            "  ca-certificates                     2023.12.12-h06a4308_0 --> 2024.11.26-h06a4308_0 \n",
            "  certifi                          2024.2.2-py310h06a4308_0 --> 2024.8.30-py310h06a4308_0 \n",
            "  conda                              24.1.2-py310h06a4308_0 --> 24.11.1-py310h06a4308_0 \n",
            "  openssl                                 3.0.13-h7f8727e_0 --> 3.0.15-h5eee18b_0 \n",
            "\n",
            "\n",
            "Preparing transaction: ...working... done\n",
            "Verifying transaction: ...working... done\n",
            "Executing transaction: ...working... done\n",
            "  % Total    % Received % Xferd  Average Speed   Time    Time     Time  Current\n",
            "                                 Dload  Upload   Total   Spent    Left  Speed\n",
            "100 42.0M  100 42.0M    0     0  4793k      0  0:00:08  0:00:08 --:--:-- 3945k\n",
            "AST Lowering [349] crypto/25519/field.zig... \u001b[45D\u001b[0KAST Lowering [397] c/linux.zig... \u001b[34D\u001b[0KAST Lowering [430] target/wasm.zig... LLVM Emit Object... \u001b[20D\u001b[0K\u001b[38D\u001b[0KSemantic Analysis... comptime_0... \u001b[35D\u001b[0KSemantic Analysis [638] addOne... \u001b[34D\u001b[0KSemantic Analysis [977] append... \u001b[34D\u001b[0KSemantic Analysis [1140] PT_PHDR... \u001b[36D\u001b[0KSemantic Analysis [1307] mem... \u001b[32D\u001b[0KSemantic Analysis [1429] process... \u001b[36D\u001b[0KSemantic Analysis [1591] ucontext_t... \u001b[39D\u001b[0KSemantic Analysis [1719] all_features... \u001b[41D\u001b[0KSemantic Analysis [1756] \u001b[25D\u001b[0KSemantic Analysis [1830] parseCpuModel... \u001b[42D\u001b[0KSemantic Analysis [1955] ensureTotalCapacity... \u001b[48D\u001b[0KSemantic Analysis [2086] skylake... \u001b[36D\u001b[0KSemantic Analysis [2112] pread... \u001b[34D\u001b[0KSemantic Analysis [2167] get... \u001b[32D\u001b[0KSemantic Analysis [2563] z16... \u001b[32D\u001b[0KSemantic Analysis [2759] g5... \u001b[31D\u001b[0KSemantic Analysis [2890] addInstallArtifact... \u001b[47D\u001b[0KSemantic Analysis [2976] isNativeCpu... \u001b[40D\u001b[0KSemantic Analysis [3034] containsContext... \u001b[44D\u001b[0KSemantic Analysis [3045] plan9Ext... \u001b[37D\u001b[0KSemantic Analysis [3194] ensureTotalCapacity... \u001b[48D\u001b[0KSemantic Analysis [3214] growIfNeeded... \u001b[41D\u001b[0KSemantic Analysis [3225] updateFile... \u001b[39D\u001b[0KSemantic Analysis [3342] grow... \u001b[33D\u001b[0KSemantic Analysis [3389] fifo... \u001b[33D\u001b[0KSemantic Analysis [3451] ensureTotalCapacity... \u001b[48D\u001b[0KSemantic Analysis [3498] F_OK... \u001b[33D\u001b[0KSemantic Analysis [3569] writeIntFd... \u001b[39D\u001b[0KSemantic Analysis [3578] containsAdapted... LLVM Emit Object... \u001b[20D\u001b[0KLLVM Emit Object... \u001b[20D\u001b[0K\u001b[44D\u001b[0KSemantic Analysis [3601] \u001b[25D\u001b[0KLLVM Emit Object... \u001b[20D\u001b[0KLLVM Emit Object... \u001b[20D\u001b[0KLLD Link... \u001b[12D\u001b[0KLLD Link... \u001b[12D\u001b[0KCompile C Objects [1/8] parseBench.cpp... Compile C Objects [1/10] \u001b[25D\u001b[0KCompile C Objects [1/10] gcc_personality_v0.c... \u001b[49D\u001b[0KCompile C Objects [3/10] UnwindRegistersSave.S... \u001b[50D\u001b[0KCompile C Objects [5/10] Unwind-sjlj.c... \u001b[42D\u001b[0KCompile C Objects [6/10] UnwindLevel1-gcc-ext.c... \u001b[51D\u001b[0KCompile C Objects [7/10] UnwindLevel1.c... \u001b[43D\u001b[0KCompile C Objects [8/10] Unwind-seh.cpp... \u001b[43D\u001b[0KCompile C Objects [10/10] libunwind.cpp... \u001b[43D\u001b[0K\u001b[42D\u001b[0KCompile C Objects [2/8] parseBench.cpp... Compile C Objects [2/47] variant.cpp... \u001b[40D\u001b[0KCompile C Objects [3/47] valarray.cpp... \u001b[41D\u001b[0KCompile C Objects [4/47] utility.cpp... \u001b[40D\u001b[0KCompile C Objects [5/47] typeinfo.cpp... \u001b[41D\u001b[0KCompile C Objects [6/47] thread.cpp... \u001b[39D\u001b[0KCompile C Objects [7/47] system_error.cpp... \u001b[45D\u001b[0KCompile C Objects [8/47] strstream.cpp... \u001b[42D\u001b[0KCompile C Objects [9/47] string.cpp... \u001b[39D\u001b[0KCompile C Objects [10/47] stdexcept.cpp... \u001b[43D\u001b[0KCompile C Objects [12/47] f2s.cpp... \u001b[37D\u001b[0KCompile C Objects [13/47] d2s.cpp... \u001b[37D\u001b[0KCompile C Objects [14/47] d2fixed.cpp... \u001b[41D\u001b[0KCompile C Objects [15/47] regex.cpp... \u001b[39D\u001b[0KCompile C Objects [16/47] random_shuffle.cpp... \u001b[48D\u001b[0KCompile C Objects [17/47] random.cpp... \u001b[40D\u001b[0KCompile C Objects [18/47] optional.cpp... \u001b[42D\u001b[0KCompile C Objects [19/47] new.cpp... \u001b[37D\u001b[0KCompile C Objects [20/47] mutex_destructor.cpp... \u001b[50D\u001b[0KCompile C Objects [21/47] mutex.cpp... \u001b[39D\u001b[0KCompile C Objects [22/47] memory.cpp... \u001b[40D\u001b[0KCompile C Objects [23/47] locale.cpp... \u001b[40D\u001b[0KCompile C Objects [24/47] legacy_pointer_safety.cpp... \u001b[55D\u001b[0KCompile C Objects [25/47] legacy_debug_handler.cpp... \u001b[54D\u001b[0KCompile C Objects [26/47] iostream.cpp... \u001b[42D\u001b[0KCompile C Objects [27/47] ios.instantiations.cpp... \u001b[52D\u001b[0KCompile C Objects [28/47] ios.cpp... \u001b[37D\u001b[0KCompile C Objects [29/47] hash.cpp... \u001b[38D\u001b[0KCompile C Objects [30/47] future.cpp... \u001b[40D\u001b[0KCompile C Objects [31/47] functional.cpp... \u001b[44D\u001b[0KCompile C Objects [32/47] format.cpp... \u001b[40D\u001b[0KCompile C Objects [33/47] operations.cpp... \u001b[44D\u001b[0KCompile C Objects [34/47] directory_iterator.cpp... \u001b[52D\u001b[0KCompile C Objects [35/47] memory_resource.cpp... \u001b[49D\u001b[0KCompile C Objects [36/47] exception.cpp... \u001b[43D\u001b[0KCompile C Objects [37/47] debug.cpp... \u001b[39D\u001b[0KCompile C Objects [38/47] condition_variable_destructor.cpp... \u001b[63D\u001b[0KCompile C Objects [39/47] condition_variable.cpp... \u001b[52D\u001b[0KCompile C Objects [40/47] chrono.cpp... \u001b[40D\u001b[0KCompile C Objects [41/47] charconv.cpp... \u001b[42D\u001b[0KCompile C Objects [42/47] bind.cpp... \u001b[38D\u001b[0KCompile C Objects [43/47] barrier.cpp... \u001b[41D\u001b[0KCompile C Objects [44/47] atomic.cpp... \u001b[40D\u001b[0KCompile C Objects [45/47] any.cpp... \u001b[37D\u001b[0KCompile C Objects [46/47] algorithm.cpp... \u001b[42D\u001b[0KCompile C Objects [3/8] \u001b[24D\u001b[0KCompile C Objects [3/8] liu.cpp... \u001b[43D\u001b[0KCompile C Objects [47/47] algorithm.cpp... \u001b[35D\u001b[0KCompile C Objects [4/8] valiantMerged.cpp... \u001b[43D\u001b[0K\u001b[45D\u001b[0KCompile C Objects [4/8] valiantBase.cpp... Compile C Objects [1/19] \u001b[25D\u001b[0KCompile C Objects [1/19] stdlib_typeinfo.cpp... \u001b[48D\u001b[0KCompile C Objects [2/19] stdlib_stdexcept.cpp... \u001b[49D\u001b[0KCompile C Objects [3/19] stdlib_new_delete.cpp... \u001b[50D\u001b[0KCompile C Objects [4/19] stdlib_exception.cpp... \u001b[49D\u001b[0KCompile C Objects [5/19] private_typeinfo.cpp... \u001b[43D\u001b[0KCompile C Objects [5/8] \u001b[49D\u001b[0KCompile C Objects [6/19] fallback_malloc.cpp... \u001b[48D\u001b[0KCompile C Objects [7/19] cxa_vector.cpp... \u001b[43D\u001b[0KCompile C Objects [8/19] cxa_thread_atexit.cpp... \u001b[50D\u001b[0KCompile C Objects [10/19] cxa_noexception.cpp... \u001b[49D\u001b[0KCompile C Objects [11/19] cxa_handlers.cpp... \u001b[46D\u001b[0KCompile C Objects [12/19] cxa_guard.cpp... \u001b[43D\u001b[0KCompile C Objects [13/19] cxa_exception_storage.cpp... \u001b[55D\u001b[0KCompile C Objects [14/19] cxa_exception.cpp... \u001b[47D\u001b[0KCompile C Objects [15/19] cxa_demangle.cpp... \u001b[46D\u001b[0KCompile C Objects [16/19] cxa_default_handlers.cpp... \u001b[54D\u001b[0KCompile C Objects [17/19] cxa_aux_runtime.cpp... \u001b[49D\u001b[0KCompile C Objects [18/19] abort_message.cpp... \u001b[24D\u001b[0KCompile C Objects [6/8] \u001b[24D\u001b[0KCompile C Objects [6/8] valiant.cpp... \u001b[47D\u001b[0KCompile C Objects [19/19] \u001b[39D\u001b[0KCompile C Objects [7/8] gamma.cpp... \u001b[26D\u001b[0K\u001b[37D\u001b[0KCompile C Objects [7/8] UC.cpp... AST Lowering [623] crypto/aes/soft.zig... \u001b[42D\u001b[0KSemantic Analysis [730] __fixunsdfsi... \u001b[40D\u001b[0KSemantic Analysis [1012] fneg... \u001b[33D\u001b[0KSemantic Analysis [1149] math... \u001b[33D\u001b[0KSemantic Analysis [1327] invpio2... \u001b[36D\u001b[0KLLVM Emit Object... \u001b[34D\u001b[0KCompile C Objects [8/8] UC.cpp... \u001b[20D\u001b[0KLLVM Emit Object... \u001b[20D\u001b[0K\u001b[34D\u001b[0KCompile C Objects [9/8] \u001b[24D\u001b[0KLLD Link... \u001b[12D\u001b[0KLLD Link... \u001b[12D\u001b[0KSemantic Analysis [1969] mkdirat... \u001b[36D\u001b[0KSemantic Analysis [2015] assert... \u001b[35D\u001b[0KSemantic Analysis [2131] addOne... \u001b[35D\u001b[0KSemantic Analysis [2226] lenSliceTo... \u001b[39D\u001b[0KSemantic Analysis [2302] syscall3... \u001b[37D\u001b[0KSemantic Analysis [2335] \u001b[25D\u001b[0KSemantic Analysis [2378] ensureTotalCapacityPrecise... \u001b[55D\u001b[0KSemantic Analysis [2419] capacity... \u001b[37D\u001b[0KSemantic Analysis [2480] ensureTotalCapacity... \u001b[48D\u001b[0KSemantic Analysis [2526] inTable... \u001b[36D\u001b[0KSemantic Analysis [2572] items... \u001b[34D\u001b[0KSemantic Analysis [2619] containsAdapted... \u001b[44D\u001b[0KSemantic Analysis [2645] VDSO... \u001b[33D\u001b[0KSemantic Analysis [2687] slot_tombstone... \u001b[43D\u001b[0KSemantic Analysis [2728] tableLowerBound... \u001b[44D\u001b[0KSemantic Analysis [2739] deallocate... \u001b[39D\u001b[0KSemantic Analysis [2781] containsContext... \u001b[44D\u001b[0KSemantic Analysis [2805] containsAdapted... \u001b[44D\u001b[0KSemantic Analysis [2809] math... \u001b[33D\u001b[0KSemantic Analysis [2814] \u001b[25D\u001b[0KLLVM Emit Object... \u001b[20D\u001b[0KLLVM Emit Object... \u001b[20D\u001b[0KLLD Link... \u001b[12D\u001b[0KSemantic Analysis [1545] lenSliceTo... \u001b[39D\u001b[0KSemantic Analysis [1621] ensureTotalCapacity... \u001b[48D\u001b[0KSemantic Analysis [1672] assert... \u001b[35D\u001b[0KSemantic Analysis [1718] \u001b[25D\u001b[0KSemantic Analysis [1748] remove... \u001b[35D\u001b[0KSemantic Analysis [1752] \u001b[25D\u001b[0KLLVM Emit Object... \u001b[20D\u001b[0KLLVM Emit Object... \u001b[20D\u001b[0KLLD Link... \u001b[12D\u001b[0KLLVM Emit Object... \u001b[20D\u001b[0KLLVM Emit Object... \u001b[20D\u001b[0KLLD Link... \u001b[12D\u001b[0K"
          ]
        }
      ],
      "source": [
        "# @title\n",
        "import os\n",
        "import pathlib\n",
        "\n",
        "yosys_version = '0.38_93_g84116c9a3'\n",
        "\n",
        "# download repository\n",
        "!curl --show-error -L 'https://github.com/encryptogroup/FLUENT/archive/refs/heads/main.tar.gz' | tar xz --strip-components=1\n",
        "\n",
        "# set up XLS\n",
        "!curl --show-error -L 'https://github.com/encryptogroup/FLUENT/releases/download/v1.0.0/xls-bin.tar.xz' | tar xJ\n",
        "xls_bin_path = pathlib.Path('bazel-bin')\n",
        "xlscc_path = xls_bin_path / 'xls' / 'contrib' / 'xlscc' / 'xlscc'\n",
        "xls_opt_path = xls_bin_path / 'xls' / 'tools' / 'opt_main'\n",
        "xls_codegen_path = xls_bin_path / 'xls' / 'tools' / 'codegen_main'\n",
        "XLSCC = str(xlscc_path.resolve())\n",
        "XLS_OPT = str(xls_opt_path.resolve())\n",
        "XLS_CODEGEN = str(xls_codegen_path.resolve())\n",
        "%env XLSCC={XLSCC}\n",
        "%env XLS_OPT={XLS_OPT}\n",
        "%env XLS_CODEGEN={XLS_CODEGEN}\n",
        "\n",
        "# set up Yosys\n",
        "!curl -L -O https://repo.anaconda.com/miniconda/Miniconda3-py310_24.1.2-0-Linux-x86_64.sh\n",
        "!bash Miniconda3-py310_24.1.2-0-Linux-x86_64.sh -b -p conda-env/\n",
        "conda_prefix_path = pathlib.Path('conda-env')\n",
        "CONDA_PREFIX = str(conda_prefix_path.resolve())\n",
        "%env CONDA_PREFIX={CONDA_PREFIX}\n",
        "!conda-env/bin/conda install -yq -c \"litex-hub\" yosys={yosys_version}\n",
        "conda_bin_path = conda_prefix_path / 'bin'\n",
        "os.environ['PATH'] += os.pathsep + str(conda_bin_path.resolve())\n",
        "\n",
        "# set up FLUENT\n",
        "!curl --show-error -L https://ziglang.org/download/0.10.0/zig-linux-x86_64-0.10.0.tar.xz | tar xJ\n",
        "!cd spfe; ../zig-linux-x86_64-0.10.0/zig build\n",
        "spfe_bin_path = pathlib.Path('spfe') / 'zig-out' / 'bin'\n",
        "os.environ['PATH'] += os.pathsep + str(spfe_bin_path.resolve())"
      ]
    },
    {
      "cell_type": "markdown",
      "metadata": {
        "id": "2Uk6rJfp2kK1"
      },
      "source": [
        "## Circuit compilation\n",
        "\n",
        "The main program responsible for compilation of circuit is `spfe`. We provide the invocation of this executable in the code blocks below. The executable takes the source Verilog/C/C++ file as a command-line argument. Upon successful completion, two files will be generated:\n",
        "\n",
        "- `<filename>.spfe` contains a textual description of the SPFE circuit.\n",
        "- `<filename>.spfe.prog` contains programming bits for private modules. This file is generated even when the whole function is public; in this case, it is empty.\n",
        "\n",
        "You can get an overview of all command-line parameters with `spfe -h`. Here are the most important ones:\n",
        "\n",
        "- `-t [name]` Top-level function/module (default=main)\n",
        "- `-l [num]` Use LUTs of size num (default=2) in private modules\n",
        "- `-L [num]` Use LUTs of size num (default=don't use LUTs) in public modules\n",
        "- `-c [luc|vuc]` Use a different UC construction (default=luc)\n",
        "\n",
        "Feel free to change the invocations to try different parameters.\n",
        "\n",
        "## Introductory examples\n",
        "\n",
        "Let's take a look at some simple examples from our paper.\n",
        "\n",
        "### FLUENT in Verilog\n",
        "\n",
        "The following Verilog code implements a simple 32-bit integer counter and comparator, where the comparator is implemented in a private module."
      ]
    },
    {
      "cell_type": "code",
      "execution_count": 2,
      "metadata": {
        "colab": {
          "base_uri": "https://localhost:8080/"
        },
        "id": "fDFeJ6rBztyM",
        "outputId": "97055ec3-3fcd-4a4c-8f24-548658328e12"
      },
      "outputs": [
        {
          "output_type": "stream",
          "name": "stdout",
          "text": [
            "Writing paper_example_verilog.v\n"
          ]
        }
      ],
      "source": [
        "%%writefile paper_example_verilog.v\n",
        "\n",
        "(* private *)\n",
        "module compare ( input  wire [31:0] a, output wire b);\n",
        "  assign b = a > 4096;\n",
        "endmodule\n",
        "\n",
        "(* public *)  // optional\n",
        "module increment (input  wire [31:0] a, output wire [31:0] c);\n",
        "  assign c = a + 1;\n",
        "endmodule\n",
        "\n",
        "module count_over_threshold (input  wire [31:0] value, input  wire [31:0] counter, output wire [31:0] new_counter);\n",
        "  wire over_threshold;\n",
        "  wire [31:0] incremented;\n",
        "  compare cmp (value, over_threshold);\n",
        "  increment inc (counter, incremented);\n",
        "  assign new_counter = over_threshold ? counter : incremented;\n",
        "endmodule  // main"
      ]
    },
    {
      "cell_type": "code",
      "execution_count": 3,
      "metadata": {
        "colab": {
          "base_uri": "https://localhost:8080/"
        },
        "id": "UXBdBrcvz7SB",
        "outputId": "b5bcee20-6e26-4489-abf9-31fdbb1462d1"
      },
      "outputs": [
        {
          "output_type": "stream",
          "name": "stdout",
          "text": [
            "compiling public components... \u001b[31D\u001b[0Kcompiling private components [1/1] \u001b[35D\u001b[0Kcompiling private components [2/1] \u001b[35D\u001b[0Kmerging circuits... \u001b[20D\u001b[0KObject `paper_example_verilog.spfe` not found.\n"
          ]
        }
      ],
      "source": [
        "!spfe paper_example_verilog.v -t count_over_threshold\n",
        "%pfile paper_example_verilog.spfe"
      ]
    },
    {
      "cell_type": "markdown",
      "metadata": {
        "id": "8C4xjqqt3xPe"
      },
      "source": [
        "### FLUENT in C\n",
        "\n",
        "This is the same example implemented in C, made possible with High-Level Synthesis (HLS)."
      ]
    },
    {
      "cell_type": "code",
      "execution_count": null,
      "metadata": {
        "colab": {
          "base_uri": "https://localhost:8080/"
        },
        "id": "jsPoYedxEO8n",
        "outputId": "823c22b3-4e93-4469-a164-910c2a026a95"
      },
      "outputs": [
        {
          "name": "stdout",
          "output_type": "stream",
          "text": [
            "Writing paper_example_c.c\n"
          ]
        }
      ],
      "source": [
        "%%writefile paper_example_c.c\n",
        "\n",
        "#pragma spfe_private\n",
        "int compare(int b) {\n",
        "  return b > 4096;\n",
        "}\n",
        "\n",
        "int increment(int a) {\n",
        "  return a + 1;\n",
        "}\n",
        "\n",
        "int count_over_threshold(int value, int counter) {\n",
        "  return compare(value) ? counter : increment(counter);\n",
        "}"
      ]
    },
    {
      "cell_type": "code",
      "execution_count": null,
      "metadata": {
        "colab": {
          "base_uri": "https://localhost:8080/"
        },
        "id": "Vm48Q49twUpk",
        "outputId": "0ebb1310-da05-434e-c88f-75f1ca395c37"
      },
      "outputs": [
        {
          "name": "stdout",
          "output_type": "stream",
          "text": [
            "running high-level synthesis with XLS... \u001b[41D\u001b[0Kcompiling public components... \u001b[31D\u001b[0Kcompiling public components... \u001b[31D\u001b[0Kcompiling private components [1/1] \u001b[35D\u001b[0Kcompiling private components [2/1] \u001b[35D\u001b[0Kmerging circuits... \u001b[20D\u001b[0KObject `paper_example_c.spfe` not found.\n"
          ]
        }
      ],
      "source": [
        "!spfe paper_example_c.c -t count_over_threshold\n",
        "%pfile paper_example_c.spfe"
      ]
    },
    {
      "cell_type": "markdown",
      "metadata": {
        "id": "Kxk6cndG88RU"
      },
      "source": [
        "## Car Insurance Example\n",
        "\n",
        "The car insurance calculator mentioned in our paper is included in our repository. Here, we compile this semi-private function.\n",
        "\n",
        "**Warning**: This may take mutiple hours as it is a comparatively large circuit."
      ]
    },
    {
      "cell_type": "code",
      "execution_count": null,
      "metadata": {
        "colab": {
          "background_save": true,
          "base_uri": "https://localhost:8080/"
        },
        "id": "nM8WQ-Q69AJg",
        "outputId": "f0b0c2d0-0c7e-429f-c1c8-315efcd99f7f"
      },
      "outputs": [
        {
          "name": "stdout",
          "output_type": "stream",
          "text": [
            "running high-level synthesis with XLS... \u001b[41D\u001b[0Krunning high-level synthesis with XLS... \u001b[41D\u001b[0Kcompiling public components... \u001b[31D\u001b[0Kcompiling public components... "
          ]
        }
      ],
      "source": [
        "!cd spfe/examples/insurance_c/insurance; spfe -I ../libc/musl/include -I ../libc/include/arm-linux-musl -t insurance insurance.c"
      ]
    },
    {
      "cell_type": "markdown",
      "source": [
        "## CNN Example\n",
        "\n",
        "This is a simple Convolutional Neural Network consisting of one convolution layer and one fully connected layer. The convolution layer is private, while the fully connected layer is public.\n",
        "\n",
        "**Warning**: This may take mutiple hours as it is a comparatively large circuit."
      ],
      "metadata": {
        "id": "N5jywThJkYs1"
      }
    },
    {
      "cell_type": "code",
      "source": [
        "!cd spfe/examples/cnn/; spfe -t network --dont-optimize-area cnn.cpp"
      ],
      "metadata": {
        "id": "lGaEI7vHk1Jt"
      },
      "execution_count": null,
      "outputs": []
    }
  ],
  "metadata": {
    "colab": {
      "provenance": []
    },
    "kernelspec": {
      "display_name": "Python 3",
      "name": "python3"
    },
    "language_info": {
      "name": "python"
    }
  },
  "nbformat": 4,
  "nbformat_minor": 0
}